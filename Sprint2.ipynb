{
  "cells": [
    {
      "cell_type": "code",
      "execution_count": 3,
      "metadata": {
        "colab": {
          "base_uri": "https://localhost:8080/"
        },
        "id": "wpX3-zkI_4sR",
        "outputId": "dcafb05a-9454-4ce0-fce2-1cf5188a400a"
      },
      "outputs": [
        {
          "output_type": "stream",
          "name": "stdout",
          "text": [
            "       Nombre  caracter_1  caracter_2  caracter_3  caracter_4  caracter_5\n",
            "0      Julian       0.200        0.30        0.45       0.780       0.200\n",
            "1   Christian       0.400        0.60        0.89       0.320       0.200\n",
            "2     Valeria       1.000        0.25        0.70       0.800       0.600\n",
            "3        Juan       0.220        0.34        0.70       0.300       0.280\n",
            "4       Pablo       0.190        0.40        0.10       0.450       0.370\n",
            "5   Alejandra       0.980        0.78        0.46       0.380       0.580\n",
            "6     Rossana       0.290        0.20        0.59       0.240       0.400\n",
            "7     Gonzalo       0.200        0.43        0.28       0.480       0.290\n",
            "8      Ofelia       0.300        0.39       58.00       0.370       0.180\n",
            "9        Aura       0.290        0.48        0.47       0.240       0.220\n",
            "10      Jorge       1.000        0.30        0.80       0.300       0.300\n",
            "11    Tatiana       0.386        1.00        1.00       0.390       0.000\n",
            "12     Johana       0.200        0.49        0.43       0.492       0.328\n",
            "13  Alejandro       0.000        0.29        0.00       0.240       0.300\n"
          ]
        }
      ],
      "source": [
        "import pandas as pd\n",
        "import numpy as np\n",
        "import ipywidgets as widgets\n",
        "import numpy.linalg as lng\n",
        "import matplotlib.pyplot as plt\n",
        "pd.__version__\n",
        "np.__version__\n",
        "\n",
        "db = pd.read_csv('Sprint2.csv')\n",
        "\n",
        "def ordenar (caracteristica, ascendente):\n",
        "\n",
        "  dbordenada = 0\n",
        "\n",
        "  if ascendente == True:\n",
        "      dbordenada = db.sort_values(by=caracteristica);\n",
        "  elif ascendente == False:\n",
        "      dbordenada = db.sort_values(by=caracteristica, ascending = False)\n",
        "  else:\n",
        "      dbordenada = \"Término que no es compatible\";\n",
        "\n",
        "  print(dbordenada);\n",
        "  printed()\n",
        "\n",
        "  names1 = widgets.Dropdown(\n",
        "    options=db['Nombre'],\n",
        "    value= db[0],\n",
        "    description='Nombre:',\n",
        ")\n",
        "  names1\n",
        "\n",
        "def printed():\n",
        "  print(\"----------------------------------------\")\n",
        "  print(\"Escribe la variable con la que deseas filtrar la información: \\nNA: Por orden alfabético ascendente \\nND: Por orden alfabético descendente \\nEA: Por edad de menor a mayor edad \\nED: por personas de mayor a menor edad \\nBA: De menor a mayor puntaje frente al Broccoli \\nBD De mayor a menor puntaje frente al Broccoli\")\n",
        "  print(\"----------------------------------------\")\n",
        "  user_input = input()\n",
        "\n",
        "  if user_input == 'NA':\n",
        "    ordenar('Nombre', True)\n",
        "  elif user_input == 'ND':\n",
        "    ordenar('Nombre', False)\n",
        "  elif user_input == 'EA':\n",
        "    ordenar('Edad', True)\n",
        "  elif user_input == 'ED':\n",
        "    ordenar('Edad', False)\n",
        "  elif user_input == 'BA':\n",
        "    ordenar('Gusto_broccoli', True)\n",
        "  elif user_input == 'BD':\n",
        "    ordenar('Gusto_broccoli', False)\n",
        "  else:\n",
        "    print(\"El término ingresado no es válido, seleccione uno de los mencionados en las instrucciones\")\n",
        "\n",
        "\n",
        "print(db)\n",
        "\n"
      ]
    },
    {
      "cell_type": "code",
      "source": [
        "names1 = widgets.Dropdown( #Se crea dropdwon con los valores de los nombres\n",
        "    options=db['Nombre'],\n",
        "    value= db['Nombre'][0],\n",
        "    description='Nombre:',\n",
        ") \n",
        "names1"
      ],
      "metadata": {
        "colab": {
          "base_uri": "https://localhost:8080/",
          "height": 49,
          "referenced_widgets": [
            "173b0ad90512467abe69e809cd1e9282",
            "b8425ae46eee44afb7c1c4a83a040b3e",
            "e5cbd7f4f05f42dc8c71c13b3c609652"
          ]
        },
        "id": "SNzTDP9R5q1S",
        "outputId": "a216389a-304a-4130-f70c-72bbe85a78fd"
      },
      "execution_count": 4,
      "outputs": [
        {
          "output_type": "display_data",
          "data": {
            "text/plain": [
              "Dropdown(description='Nombre:', options=('Julian', 'Christian', 'Valeria', 'Juan', 'Pablo', 'Alejandra', 'Ross…"
            ],
            "application/vnd.jupyter.widget-view+json": {
              "version_major": 2,
              "version_minor": 0,
              "model_id": "173b0ad90512467abe69e809cd1e9282"
            }
          },
          "metadata": {}
        }
      ]
    },
    {
      "cell_type": "code",
      "source": [
        "names2 = widgets.Dropdown(\n",
        "    options=db['Nombre'],\n",
        "    value= db['Nombre'][0],\n",
        "    description='Nombre:',\n",
        ") \n",
        "names2\n"
      ],
      "metadata": {
        "colab": {
          "base_uri": "https://localhost:8080/",
          "height": 49,
          "referenced_widgets": [
            "8aaf89e33b984ad7ad09b375b94d3019",
            "54e9cadad64f44ccb6e47d4a6f586a1e",
            "ac5b1aaddad045cd83f7e9797eb5a69d"
          ]
        },
        "id": "MulJyp-E46Uv",
        "outputId": "75a6bfca-0683-482e-b8a6-aa038b65a55a"
      },
      "execution_count": 5,
      "outputs": [
        {
          "output_type": "display_data",
          "data": {
            "text/plain": [
              "Dropdown(description='Nombre:', options=('Julian', 'Christian', 'Valeria', 'Juan', 'Pablo', 'Alejandra', 'Ross…"
            ],
            "application/vnd.jupyter.widget-view+json": {
              "version_major": 2,
              "version_minor": 0,
              "model_id": "8aaf89e33b984ad7ad09b375b94d3019"
            }
          },
          "metadata": {}
        }
      ]
    },
    {
      "cell_type": "code",
      "source": [],
      "metadata": {
        "id": "2aZBhpGIDCxL"
      },
      "execution_count": null,
      "outputs": []
    },
    {
      "cell_type": "code",
      "source": [
        "def cos_sim (a,b): \n",
        "  name1 = db.loc[db['Nombre']== a].values #Obtener valores del nombre seleccionado y convertir a un arreglo\n",
        "  name2 = db.loc[db['Nombre']== b].values\n",
        "  name1 = np.delete(name1,0) # Borramos el nombre\n",
        "  name2 = np.delete(name2,0) \n",
        "\n",
        "  cos_sim = np.dot(name1, name2)/(lng.norm(name1)*lng.norm(name2)) #Calcular la relacion de coseno entre A y B\n",
        "  print ('La relación coseno entre: ' + a + ' y ' + b)\n",
        "  print(cos_sim)\n",
        "\n",
        "def button_clicked(b):\n",
        "  cos_sim(names1.value, names2.value);\n",
        "\n",
        "button = widgets.Button( #Crear botón\n",
        "    description='Click me',\n",
        "    disabled= False,\n",
        "    button_style='', # 'success', 'info', 'warning', 'danger' or ''\n",
        "    tooltip='Click me',\n",
        "    icon='check' # (FontAwesome names without the `fa-` prefix)\n",
        ")\n",
        "button.on_click(button_clicked) \n",
        "button"
      ],
      "metadata": {
        "id": "FId8UTnbhEmY",
        "colab": {
          "base_uri": "https://localhost:8080/",
          "height": 49,
          "referenced_widgets": [
            "b13ad4c5ddc746cca5f6fd50dc35e7b7",
            "8bf2859127ab4575b88d2de3c9a281af",
            "62c018fd04c64a068846d81e2ace6ee1"
          ]
        },
        "outputId": "a37ffede-fdef-4fac-ad57-d3cbc2f44a01"
      },
      "execution_count": 6,
      "outputs": [
        {
          "output_type": "display_data",
          "data": {
            "text/plain": [
              "Button(description='Click me', icon='check', style=ButtonStyle(), tooltip='Click me')"
            ],
            "application/vnd.jupyter.widget-view+json": {
              "version_major": 2,
              "version_minor": 0,
              "model_id": "b13ad4c5ddc746cca5f6fd50dc35e7b7"
            }
          },
          "metadata": {}
        }
      ]
    },
    {
      "cell_type": "code",
      "source": [
        "names3 = widgets.Dropdown(\n",
        "    options=db['Nombre'],\n",
        "    value= db['Nombre'][0],\n",
        "    description='Nombre:',\n",
        ") \n",
        "names3"
      ],
      "metadata": {
        "colab": {
          "base_uri": "https://localhost:8080/",
          "height": 49,
          "referenced_widgets": [
            "99d38ca7be834b5a94f762a02e57176d",
            "9dca562436bb49338dc0e3aa68e813b9",
            "2899e83b1f724f1eb3bfda0891f28244"
          ]
        },
        "id": "WUu4jbAT6kbi",
        "outputId": "f270a7d2-3332-4bb8-8c60-103d4e620183"
      },
      "execution_count": 7,
      "outputs": [
        {
          "output_type": "display_data",
          "data": {
            "text/plain": [
              "Dropdown(description='Nombre:', options=('Julian', 'Christian', 'Valeria', 'Juan', 'Pablo', 'Alejandra', 'Ross…"
            ],
            "application/vnd.jupyter.widget-view+json": {
              "version_major": 2,
              "version_minor": 0,
              "model_id": "99d38ca7be834b5a94f762a02e57176d"
            }
          },
          "metadata": {}
        }
      ]
    },
    {
      "cell_type": "code",
      "source": [
        "def cos_sim_all (a): \n",
        "  name1 = db.loc[db['Nombre']== a].values #Obtener valores del nombre seleccionado y convertir a un arreglo\n",
        "  name1 = np.delete(name1,0) # Borramos el nombre\n",
        "  all_names = np.empty(0)\n",
        "  for i in range(len(db['Nombre'])):\n",
        "    name2 = (db.loc[i].values)\n",
        "    name2 = np.delete(name2,0) # Borramos el nombre\n",
        "    cos_sim = np.dot(name1, name2)/(lng.norm(name1)*lng.norm(name2)) #Calcular la relacion de coseno entre A y B\n",
        "    all_names = np.insert(all_names, len(all_names), [cos_sim])\n",
        "  #print ('La relación coseno entre: ' + a + ' y ' + b)\n",
        "\n",
        "  #Grafico\n",
        "  fig,ax = plt.subplots()\n",
        "  fig.set_figheight(20)\n",
        "  fig.set_figwidth(20)\n",
        "  ax.scatter(all_names, all_names)\n",
        "\n",
        "  for i, name in enumerate(db['Nombre']):\n",
        "    print(i)\n",
        "    ax.annotate (name, (all_names[i], all_names[i]))\n",
        "\n",
        "def button_clicked2(b):\n",
        "  cos_sim_all(names3.value);\n",
        "\n",
        "button2 = widgets.Button( #Crear botón\n",
        "    description='Click me',\n",
        "    disabled= False,\n",
        "    button_style='', # 'success', 'info', 'warning', 'danger' or ''\n",
        "    tooltip='Click me',\n",
        "    icon='check' # (FontAwesome names without the `fa-` prefix)\n",
        ")\n",
        "button2.on_click(button_clicked2)\n",
        "button2\n",
        "\n",
        "\n"
      ],
      "metadata": {
        "colab": {
          "base_uri": "https://localhost:8080/",
          "height": 901,
          "referenced_widgets": [
            "86b4b1eefb4546b59e372b888d23ee44",
            "6713bb87458f4ba5b3a4ef1b1f9fc6c3",
            "8a57737a3c634b638bb6c25d5e48bfb4"
          ]
        },
        "id": "YAPjpIPrwxK9",
        "outputId": "f07e4b82-55ec-4468-85d7-7d709b093e85"
      },
      "execution_count": 8,
      "outputs": [
        {
          "output_type": "display_data",
          "data": {
            "text/plain": [
              "Button(description='Click me', icon='check', style=ButtonStyle(), tooltip='Click me')"
            ],
            "application/vnd.jupyter.widget-view+json": {
              "version_major": 2,
              "version_minor": 0,
              "model_id": "86b4b1eefb4546b59e372b888d23ee44"
            }
          },
          "metadata": {}
        },
        {
          "output_type": "stream",
          "name": "stdout",
          "text": [
            "0\n",
            "1\n",
            "2\n",
            "3\n",
            "4\n",
            "5\n",
            "6\n",
            "7\n",
            "8\n",
            "9\n",
            "10\n",
            "11\n",
            "12\n",
            "13\n"
          ]
        },
        {
          "output_type": "display_data",
          "data": {
            "text/plain": [
              "<Figure size 1440x1440 with 1 Axes>"
            ],
            "image/png": "[encoded data removed]"
          },
          "metadata": {
            "needs_background": "light"
          }
        }
      ]
    }
  ],
  "metadata": {
    "colab": {
      "collapsed_sections": [],
      "provenance": []
    },
    "kernelspec": {
      "display_name": "Python 3",
      "name": "python3"
    },
    "language_info": {
      "name": "python"
    },
    "widgets": {
      "application/vnd.jupyter.widget-state+json": {
        "173b0ad90512467abe69e809cd1e9282": {
          "model_module": "@jupyter-widgets/controls",
          "model_name": "DropdownModel",
          "model_module_version": "1.5.0",
          "state": {
            "_dom_classes": [],
            "_model_module": "@jupyter-widgets/controls",
            "_model_module_version": "1.5.0",
            "_model_name": "DropdownModel",
            "_options_labels": [
              "Julian",
              "Christian",
              "Valeria",
              "Juan",
              "Pablo",
              "Alejandra",
              "Rossana",
              "Gonzalo",
              "Ofelia",
              "Aura",
              "Jorge",
              "Tatiana",
              "Johana",
              "Alejandro"
            ],
            "_view_count": null,
            "_view_module": "@jupyter-widgets/controls",
            "_view_module_version": "1.5.0",
            "_view_name": "DropdownView",
            "description": "Nombre:",
            "description_tooltip": null,
            "disabled": false,
            "index": 0,
            "layout": "IPY_MODEL_b8425ae46eee44afb7c1c4a83a040b3e",
            "style": "IPY_MODEL_e5cbd7f4f05f42dc8c71c13b3c609652"
          }
        },
        "b8425ae46eee44afb7c1c4a83a040b3e": {
          "model_module": "@jupyter-widgets/base",
          "model_name": "LayoutModel",
          "model_module_version": "1.2.0",
          "state": {
            "_model_module": "@jupyter-widgets/base",
            "_model_module_version": "1.2.0",
            "_model_name": "LayoutModel",
            "_view_count": null,
            "_view_module": "@jupyter-widgets/base",
            "_view_module_version": "1.2.0",
            "_view_name": "LayoutView",
            "align_content": null,
            "align_items": null,
            "align_self": null,
            "border": null,
            "bottom": null,
            "display": null,
            "flex": null,
            "flex_flow": null,
            "grid_area": null,
            "grid_auto_columns": null,
            "grid_auto_flow": null,
            "grid_auto_rows": null,
            "grid_column": null,
            "grid_gap": null,
            "grid_row": null,
            "grid_template_areas": null,
            "grid_template_columns": null,
            "grid_template_rows": null,
            "height": null,
            "justify_content": null,
            "justify_items": null,
            "left": null,
            "margin": null,
            "max_height": null,
            "max_width": null,
            "min_height": null,
            "min_width": null,
            "object_fit": null,
            "object_position": null,
            "order": null,
            "overflow": null,
            "overflow_x": null,
            "overflow_y": null,
            "padding": null,
            "right": null,
            "top": null,
            "visibility": null,
            "width": null
          }
        },
        "e5cbd7f4f05f42dc8c71c13b3c609652": {
          "model_module": "@jupyter-widgets/controls",
          "model_name": "DescriptionStyleModel",
          "model_module_version": "1.5.0",
          "state": {
            "_model_module": "@jupyter-widgets/controls",
            "_model_module_version": "1.5.0",
            "_model_name": "DescriptionStyleModel",
            "_view_count": null,
            "_view_module": "@jupyter-widgets/base",
            "_view_module_version": "1.2.0",
            "_view_name": "StyleView",
            "description_width": ""
          }
        },
        "8aaf89e33b984ad7ad09b375b94d3019": {
          "model_module": "@jupyter-widgets/controls",
          "model_name": "DropdownModel",
          "model_module_version": "1.5.0",
          "state": {
            "_dom_classes": [],
            "_model_module": "@jupyter-widgets/controls",
            "_model_module_version": "1.5.0",
            "_model_name": "DropdownModel",
            "_options_labels": [
              "Julian",
              "Christian",
              "Valeria",
              "Juan",
              "Pablo",
              "Alejandra",
              "Rossana",
              "Gonzalo",
              "Ofelia",
              "Aura",
              "Jorge",
              "Tatiana",
              "Johana",
              "Alejandro"
            ],
            "_view_count": null,
            "_view_module": "@jupyter-widgets/controls",
            "_view_module_version": "1.5.0",
            "_view_name": "DropdownView",
            "description": "Nombre:",
            "description_tooltip": null,
            "disabled": false,
            "index": 0,
            "layout": "IPY_MODEL_54e9cadad64f44ccb6e47d4a6f586a1e",
            "style": "IPY_MODEL_ac5b1aaddad045cd83f7e9797eb5a69d"
          }
        },
        "54e9cadad64f44ccb6e47d4a6f586a1e": {
          "model_module": "@jupyter-widgets/base",
          "model_name": "LayoutModel",
          "model_module_version": "1.2.0",
          "state": {
            "_model_module": "@jupyter-widgets/base",
            "_model_module_version": "1.2.0",
            "_model_name": "LayoutModel",
            "_view_count": null,
            "_view_module": "@jupyter-widgets/base",
            "_view_module_version": "1.2.0",
            "_view_name": "LayoutView",
            "align_content": null,
            "align_items": null,
            "align_self": null,
            "border": null,
            "bottom": null,
            "display": null,
            "flex": null,
            "flex_flow": null,
            "grid_area": null,
            "grid_auto_columns": null,
            "grid_auto_flow": null,
            "grid_auto_rows": null,
            "grid_column": null,
            "grid_gap": null,
            "grid_row": null,
            "grid_template_areas": null,
            "grid_template_columns": null,
            "grid_template_rows": null,
            "height": null,
            "justify_content": null,
            "justify_items": null,
            "left": null,
            "margin": null,
            "max_height": null,
            "max_width": null,
            "min_height": null,
            "min_width": null,
            "object_fit": null,
            "object_position": null,
            "order": null,
            "overflow": null,
            "overflow_x": null,
            "overflow_y": null,
            "padding": null,
            "right": null,
            "top": null,
            "visibility": null,
            "width": null
          }
        },
        "ac5b1aaddad045cd83f7e9797eb5a69d": {
          "model_module": "@jupyter-widgets/controls",
          "model_name": "DescriptionStyleModel",
          "model_module_version": "1.5.0",
          "state": {
            "_model_module": "@jupyter-widgets/controls",
            "_model_module_version": "1.5.0",
            "_model_name": "DescriptionStyleModel",
            "_view_count": null,
            "_view_module": "@jupyter-widgets/base",
            "_view_module_version": "1.2.0",
            "_view_name": "StyleView",
            "description_width": ""
          }
        },
        "b13ad4c5ddc746cca5f6fd50dc35e7b7": {
          "model_module": "@jupyter-widgets/controls",
          "model_name": "ButtonModel",
          "model_module_version": "1.5.0",
          "state": {
            "_dom_classes": [],
            "_model_module": "@jupyter-widgets/controls",
            "_model_module_version": "1.5.0",
            "_model_name": "ButtonModel",
            "_view_count": null,
            "_view_module": "@jupyter-widgets/controls",
            "_view_module_version": "1.5.0",
            "_view_name": "ButtonView",
            "button_style": "",
            "description": "Click me",
            "disabled": false,
            "icon": "check",
            "layout": "IPY_MODEL_8bf2859127ab4575b88d2de3c9a281af",
            "style": "IPY_MODEL_62c018fd04c64a068846d81e2ace6ee1",
            "tooltip": "Click me"
          }
        },
        "8bf2859127ab4575b88d2de3c9a281af": {
          "model_module": "@jupyter-widgets/base",
          "model_name": "LayoutModel",
          "model_module_version": "1.2.0",
          "state": {
            "_model_module": "@jupyter-widgets/base",
            "_model_module_version": "1.2.0",
            "_model_name": "LayoutModel",
            "_view_count": null,
            "_view_module": "@jupyter-widgets/base",
            "_view_module_version": "1.2.0",
            "_view_name": "LayoutView",
            "align_content": null,
            "align_items": null,
            "align_self": null,
            "border": null,
            "bottom": null,
            "display": null,
            "flex": null,
            "flex_flow": null,
            "grid_area": null,
            "grid_auto_columns": null,
            "grid_auto_flow": null,
            "grid_auto_rows": null,
            "grid_column": null,
            "grid_gap": null,
            "grid_row": null,
            "grid_template_areas": null,
            "grid_template_columns": null,
            "grid_template_rows": null,
            "height": null,
            "justify_content": null,
            "justify_items": null,
            "left": null,
            "margin": null,
            "max_height": null,
            "max_width": null,
            "min_height": null,
            "min_width": null,
            "object_fit": null,
            "object_position": null,
            "order": null,
            "overflow": null,
            "overflow_x": null,
            "overflow_y": null,
            "padding": null,
            "right": null,
            "top": null,
            "visibility": null,
            "width": null
          }
        },
        "62c018fd04c64a068846d81e2ace6ee1": {
          "model_module": "@jupyter-widgets/controls",
          "model_name": "ButtonStyleModel",
          "model_module_version": "1.5.0",
          "state": {
            "_model_module": "@jupyter-widgets/controls",
            "_model_module_version": "1.5.0",
            "_model_name": "ButtonStyleModel",
            "_view_count": null,
            "_view_module": "@jupyter-widgets/base",
            "_view_module_version": "1.2.0",
            "_view_name": "StyleView",
            "button_color": null,
            "font_weight": ""
          }
        },
        "99d38ca7be834b5a94f762a02e57176d": {
          "model_module": "@jupyter-widgets/controls",
          "model_name": "DropdownModel",
          "model_module_version": "1.5.0",
          "state": {
            "_dom_classes": [],
            "_model_module": "@jupyter-widgets/controls",
            "_model_module_version": "1.5.0",
            "_model_name": "DropdownModel",
            "_options_labels": [
              "Julian",
              "Christian",
              "Valeria",
              "Juan",
              "Pablo",
              "Alejandra",
              "Rossana",
              "Gonzalo",
              "Ofelia",
              "Aura",
              "Jorge",
              "Tatiana",
              "Johana",
              "Alejandro"
            ],
            "_view_count": null,
            "_view_module": "@jupyter-widgets/controls",
            "_view_module_version": "1.5.0",
            "_view_name": "DropdownView",
            "description": "Nombre:",
            "description_tooltip": null,
            "disabled": false,
            "index": 10,
            "layout": "IPY_MODEL_9dca562436bb49338dc0e3aa68e813b9",
            "style": "IPY_MODEL_2899e83b1f724f1eb3bfda0891f28244"
          }
        },
        "9dca562436bb49338dc0e3aa68e813b9": {
          "model_module": "@jupyter-widgets/base",
          "model_name": "LayoutModel",
          "model_module_version": "1.2.0",
          "state": {
            "_model_module": "@jupyter-widgets/base",
            "_model_module_version": "1.2.0",
            "_model_name": "LayoutModel",
            "_view_count": null,
            "_view_module": "@jupyter-widgets/base",
            "_view_module_version": "1.2.0",
            "_view_name": "LayoutView",
            "align_content": null,
            "align_items": null,
            "align_self": null,
            "border": null,
            "bottom": null,
            "display": null,
            "flex": null,
            "flex_flow": null,
            "grid_area": null,
            "grid_auto_columns": null,
            "grid_auto_flow": null,
            "grid_auto_rows": null,
            "grid_column": null,
            "grid_gap": null,
            "grid_row": null,
            "grid_template_areas": null,
            "grid_template_columns": null,
            "grid_template_rows": null,
            "height": null,
            "justify_content": null,
            "justify_items": null,
            "left": null,
            "margin": null,
            "max_height": null,
            "max_width": null,
            "min_height": null,
            "min_width": null,
            "object_fit": null,
            "object_position": null,
            "order": null,
            "overflow": null,
            "overflow_x": null,
            "overflow_y": null,
            "padding": null,
            "right": null,
            "top": null,
            "visibility": null,
            "width": null
          }
        },
        "2899e83b1f724f1eb3bfda0891f28244": {
          "model_module": "@jupyter-widgets/controls",
          "model_name": "DescriptionStyleModel",
          "model_module_version": "1.5.0",
          "state": {
            "_model_module": "@jupyter-widgets/controls",
            "_model_module_version": "1.5.0",
            "_model_name": "DescriptionStyleModel",
            "_view_count": null,
            "_view_module": "@jupyter-widgets/base",
            "_view_module_version": "1.2.0",
            "_view_name": "StyleView",
            "description_width": ""
          }
        },
        "86b4b1eefb4546b59e372b888d23ee44": {
          "model_module": "@jupyter-widgets/controls",
          "model_name": "ButtonModel",
          "model_module_version": "1.5.0",
          "state": {
            "_dom_classes": [],
            "_model_module": "@jupyter-widgets/controls",
            "_model_module_version": "1.5.0",
            "_model_name": "ButtonModel",
            "_view_count": null,
            "_view_module": "@jupyter-widgets/controls",
            "_view_module_version": "1.5.0",
            "_view_name": "ButtonView",
            "button_style": "",
            "description": "Click me",
            "disabled": false,
            "icon": "check",
            "layout": "IPY_MODEL_6713bb87458f4ba5b3a4ef1b1f9fc6c3",
            "style": "IPY_MODEL_8a57737a3c634b638bb6c25d5e48bfb4",
            "tooltip": "Click me"
          }
        },
        "6713bb87458f4ba5b3a4ef1b1f9fc6c3": {
          "model_module": "@jupyter-widgets/base",
          "model_name": "LayoutModel",
          "model_module_version": "1.2.0",
          "state": {
            "_model_module": "@jupyter-widgets/base",
            "_model_module_version": "1.2.0",
            "_model_name": "LayoutModel",
            "_view_count": null,
            "_view_module": "@jupyter-widgets/base",
            "_view_module_version": "1.2.0",
            "_view_name": "LayoutView",
            "align_content": null,
            "align_items": null,
            "align_self": null,
            "border": null,
            "bottom": null,
            "display": null,
            "flex": null,
            "flex_flow": null,
            "grid_area": null,
            "grid_auto_columns": null,
            "grid_auto_flow": null,
            "grid_auto_rows": null,
            "grid_column": null,
            "grid_gap": null,
            "grid_row": null,
            "grid_template_areas": null,
            "grid_template_columns": null,
            "grid_template_rows": null,
            "height": null,
            "justify_content": null,
            "justify_items": null,
            "left": null,
            "margin": null,
            "max_height": null,
            "max_width": null,
            "min_height": null,
            "min_width": null,
            "object_fit": null,
            "object_position": null,
            "order": null,
            "overflow": null,
            "overflow_x": null,
            "overflow_y": null,
            "padding": null,
            "right": null,
            "top": null,
            "visibility": null,
            "width": null
          }
        },
        "8a57737a3c634b638bb6c25d5e48bfb4": {
          "model_module": "@jupyter-widgets/controls",
          "model_name": "ButtonStyleModel",
          "model_module_version": "1.5.0",
          "state": {
            "_model_module": "@jupyter-widgets/controls",
            "_model_module_version": "1.5.0",
            "_model_name": "ButtonStyleModel",
            "_view_count": null,
            "_view_module": "@jupyter-widgets/base",
            "_view_module_version": "1.2.0",
            "_view_name": "StyleView",
            "button_color": null,
            "font_weight": ""
          }
        }
      }
    }
  },
  "nbformat": 4,
  "nbformat_minor": 0
}